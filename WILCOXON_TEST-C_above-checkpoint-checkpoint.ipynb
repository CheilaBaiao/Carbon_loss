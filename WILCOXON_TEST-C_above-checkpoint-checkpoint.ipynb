{
 "cells": [
  {
   "cell_type": "code",
   "execution_count": 1,
   "metadata": {},
   "outputs": [],
   "source": [
    "import matplotlib.pyplot as plt\n",
    "import matplotlib.gridspec as gridspec\n",
    "from matplotlib import cm\n",
    "import pandas as pd\n",
    "import numpy as np\n",
    "import seaborn as sns\n",
    "import scipy.stats as stats\n",
    "from scipy.stats import wilcoxon\n",
    "from scipy.stats import mannwhitneyu"
   ]
  },
  {
   "cell_type": "code",
   "execution_count": 6,
   "metadata": {},
   "outputs": [],
   "source": [
    "\n",
    "df = pd.read_excel ('Carbon_results.xlsx') #Read excel file\n"
   ]
  },
  {
   "cell_type": "code",
   "execution_count": 7,
   "metadata": {},
   "outputs": [
    {
     "data": {
      "text/html": [
       "<div>\n",
       "<style scoped>\n",
       "    .dataframe tbody tr th:only-of-type {\n",
       "        vertical-align: middle;\n",
       "    }\n",
       "\n",
       "    .dataframe tbody tr th {\n",
       "        vertical-align: top;\n",
       "    }\n",
       "\n",
       "    .dataframe thead th {\n",
       "        text-align: right;\n",
       "    }\n",
       "</style>\n",
       "<table border=\"1\" class=\"dataframe\">\n",
       "  <thead>\n",
       "    <tr style=\"text-align: right;\">\n",
       "      <th></th>\n",
       "      <th>id1</th>\n",
       "      <th>new_lulc</th>\n",
       "      <th>LULC</th>\n",
       "      <th>secundária</th>\n",
       "      <th>LULC_MB</th>\n",
       "      <th>_count</th>\n",
       "      <th>NÃO_CON</th>\n",
       "      <th>_sum</th>\n",
       "      <th>Carbon storage</th>\n",
       "      <th>IBGE</th>\n",
       "      <th>...</th>\n",
       "      <th>K_FACTOR</th>\n",
       "      <th>R_FACTOR</th>\n",
       "      <th>PRIORITY</th>\n",
       "      <th>Severity</th>\n",
       "      <th>RIVERS</th>\n",
       "      <th>ROADS</th>\n",
       "      <th>Row Labels</th>\n",
       "      <th>Sum of Area</th>\n",
       "      <th>Average of loss/há</th>\n",
       "      <th>Sum of Carbon storage</th>\n",
       "    </tr>\n",
       "  </thead>\n",
       "  <tbody>\n",
       "    <tr>\n",
       "      <th>0</th>\n",
       "      <td>1</td>\n",
       "      <td>1151</td>\n",
       "      <td>Pasture</td>\n",
       "      <td>n</td>\n",
       "      <td>115</td>\n",
       "      <td>147</td>\n",
       "      <td>-31.458876</td>\n",
       "      <td>-22.800581</td>\n",
       "      <td>-22.800581</td>\n",
       "      <td>P</td>\n",
       "      <td>...</td>\n",
       "      <td>0.0112</td>\n",
       "      <td>5830.830013</td>\n",
       "      <td>1.0</td>\n",
       "      <td>0.150</td>\n",
       "      <td>250.000000</td>\n",
       "      <td>542.599008</td>\n",
       "      <td>Eucalyptus</td>\n",
       "      <td>13.797</td>\n",
       "      <td>-37.477303</td>\n",
       "      <td>-501.998336</td>\n",
       "    </tr>\n",
       "    <tr>\n",
       "      <th>1</th>\n",
       "      <td>2</td>\n",
       "      <td>1151</td>\n",
       "      <td>Pasture</td>\n",
       "      <td>n</td>\n",
       "      <td>115</td>\n",
       "      <td>172</td>\n",
       "      <td>-36.809025</td>\n",
       "      <td>-26.678231</td>\n",
       "      <td>-26.678231</td>\n",
       "      <td>P</td>\n",
       "      <td>...</td>\n",
       "      <td>0.0112</td>\n",
       "      <td>5857.957520</td>\n",
       "      <td>1.0</td>\n",
       "      <td>0.127</td>\n",
       "      <td>142.521927</td>\n",
       "      <td>0.000000</td>\n",
       "      <td>HAG</td>\n",
       "      <td>98.236</td>\n",
       "      <td>-4.609429</td>\n",
       "      <td>-424.032223</td>\n",
       "    </tr>\n",
       "    <tr>\n",
       "      <th>2</th>\n",
       "      <td>3</td>\n",
       "      <td>1151</td>\n",
       "      <td>Pasture</td>\n",
       "      <td>n</td>\n",
       "      <td>115</td>\n",
       "      <td>1083</td>\n",
       "      <td>-231.768457</td>\n",
       "      <td>-167.979791</td>\n",
       "      <td>-167.979791</td>\n",
       "      <td>P</td>\n",
       "      <td>...</td>\n",
       "      <td>0.0112</td>\n",
       "      <td>5828.427411</td>\n",
       "      <td>1.0</td>\n",
       "      <td>0.176</td>\n",
       "      <td>25.000000</td>\n",
       "      <td>0.000000</td>\n",
       "      <td>MOF Old-growth</td>\n",
       "      <td>71.117</td>\n",
       "      <td>-37.804206</td>\n",
       "      <td>-2737.283413</td>\n",
       "    </tr>\n",
       "    <tr>\n",
       "      <th>3</th>\n",
       "      <td>4</td>\n",
       "      <td>1151</td>\n",
       "      <td>Pasture</td>\n",
       "      <td>n</td>\n",
       "      <td>115</td>\n",
       "      <td>150</td>\n",
       "      <td>-32.100894</td>\n",
       "      <td>-23.265899</td>\n",
       "      <td>-23.265899</td>\n",
       "      <td>P</td>\n",
       "      <td>...</td>\n",
       "      <td>0.0112</td>\n",
       "      <td>5857.957520</td>\n",
       "      <td>1.0</td>\n",
       "      <td>0.115</td>\n",
       "      <td>35.355339</td>\n",
       "      <td>288.532898</td>\n",
       "      <td>MOF secondary</td>\n",
       "      <td>6.937</td>\n",
       "      <td>-20.666422</td>\n",
       "      <td>-155.801016</td>\n",
       "    </tr>\n",
       "    <tr>\n",
       "      <th>4</th>\n",
       "      <td>5</td>\n",
       "      <td>1151</td>\n",
       "      <td>Pasture</td>\n",
       "      <td>n</td>\n",
       "      <td>115</td>\n",
       "      <td>90</td>\n",
       "      <td>-19.260537</td>\n",
       "      <td>-13.959539</td>\n",
       "      <td>-13.959539</td>\n",
       "      <td>P</td>\n",
       "      <td>...</td>\n",
       "      <td>0.0112</td>\n",
       "      <td>5962.503418</td>\n",
       "      <td>1.0</td>\n",
       "      <td>0.115</td>\n",
       "      <td>0.000000</td>\n",
       "      <td>24.994002</td>\n",
       "      <td>ODF Old-growth</td>\n",
       "      <td>924.385</td>\n",
       "      <td>-45.231122</td>\n",
       "      <td>-44099.613588</td>\n",
       "    </tr>\n",
       "  </tbody>\n",
       "</table>\n",
       "<p>5 rows × 32 columns</p>\n",
       "</div>"
      ],
      "text/plain": [
       "   id1  new_lulc     LULC secundária  LULC_MB  _count     NÃO_CON        _sum  \\\n",
       "0    1      1151  Pasture          n      115     147  -31.458876  -22.800581   \n",
       "1    2      1151  Pasture          n      115     172  -36.809025  -26.678231   \n",
       "2    3      1151  Pasture          n      115    1083 -231.768457 -167.979791   \n",
       "3    4      1151  Pasture          n      115     150  -32.100894  -23.265899   \n",
       "4    5      1151  Pasture          n      115      90  -19.260537  -13.959539   \n",
       "\n",
       "   Carbon storage IBGE  ...  K_FACTOR     R_FACTOR  PRIORITY  Severity  \\\n",
       "0      -22.800581    P  ...    0.0112  5830.830013       1.0     0.150   \n",
       "1      -26.678231    P  ...    0.0112  5857.957520       1.0     0.127   \n",
       "2     -167.979791    P  ...    0.0112  5828.427411       1.0     0.176   \n",
       "3      -23.265899    P  ...    0.0112  5857.957520       1.0     0.115   \n",
       "4      -13.959539    P  ...    0.0112  5962.503418       1.0     0.115   \n",
       "\n",
       "       RIVERS       ROADS      Row Labels  Sum of Area  Average of loss/há  \\\n",
       "0  250.000000  542.599008      Eucalyptus       13.797          -37.477303   \n",
       "1  142.521927    0.000000             HAG       98.236           -4.609429   \n",
       "2   25.000000    0.000000  MOF Old-growth       71.117          -37.804206   \n",
       "3   35.355339  288.532898   MOF secondary        6.937          -20.666422   \n",
       "4    0.000000   24.994002  ODF Old-growth      924.385          -45.231122   \n",
       "\n",
       "   Sum of Carbon storage  \n",
       "0            -501.998336  \n",
       "1            -424.032223  \n",
       "2           -2737.283413  \n",
       "3            -155.801016  \n",
       "4          -44099.613588  \n",
       "\n",
       "[5 rows x 32 columns]"
      ]
     },
     "execution_count": 7,
     "metadata": {},
     "output_type": "execute_result"
    }
   ],
   "source": [
    "df.head()"
   ]
  },
  {
   "cell_type": "code",
   "execution_count": 10,
   "metadata": {},
   "outputs": [],
   "source": [
    "df1=df[df['LULC']=='Pasture']\n",
    "df1 = df1[['loss/há']]\n",
    "df1.info\n",
    "df2=df[df['LULC_MB']>115]\n",
    "df2=df2[['loss/há']]"
   ]
  },
  {
   "cell_type": "code",
   "execution_count": 11,
   "metadata": {},
   "outputs": [
    {
     "data": {
      "text/plain": [
       "<bound method DataFrame.info of      id1  new_lulc     LULC secundária  LULC_MB  _count     NÃO_CON  \\\n",
       "0      1      1151  Pasture          n      115     147  -31.458876   \n",
       "1      2      1151  Pasture          n      115     172  -36.809025   \n",
       "2      3      1151  Pasture          n      115    1083 -231.768457   \n",
       "3      4      1151  Pasture          n      115     150  -32.100894   \n",
       "4      5      1151  Pasture          n      115      90  -19.260537   \n",
       "..   ...       ...      ...        ...      ...     ...         ...   \n",
       "537  538      1151  Pasture          n      115      86  -13.243691   \n",
       "538  539      1151  Pasture          n      115     105  -16.169623   \n",
       "539  540      2034      HAG          n      203      81   -7.281483   \n",
       "540  541      1151  Pasture          n      115      81  -12.091191   \n",
       "541  542      1151  Pasture          n      115     136  -20.943511   \n",
       "\n",
       "           _sum  Carbon storage IBGE  ...  K_FACTOR     R_FACTOR  PRIORITY  \\\n",
       "0    -22.800581      -22.800581    P  ...    0.0112  5830.830013       1.0   \n",
       "1    -26.678231      -26.678231    P  ...    0.0112  5857.957520       1.0   \n",
       "2   -167.979791     -167.979791    P  ...    0.0112  5828.427411       1.0   \n",
       "3    -23.265899      -23.265899    P  ...    0.0112  5857.957520       1.0   \n",
       "4    -13.959539      -13.959539    P  ...    0.0112  5962.503418       1.0   \n",
       "..          ...             ...  ...  ...       ...          ...       ...   \n",
       "537  -17.277125      -17.277125    P  ...    0.0570  3941.378366       3.0   \n",
       "538  -21.094164      -21.094164    P  ...    0.0570  3733.955566       3.0   \n",
       "539   -8.159664       -8.159664    r  ...    0.0433  4626.249023       3.0   \n",
       "540  -17.762156      -17.762156    P  ...    0.0433  4316.326172       3.0   \n",
       "541  -27.321965      -27.321965    P  ...    0.0433  4316.326172       3.0   \n",
       "\n",
       "     Severity      RIVERS        ROADS      Row Labels  Sum of Area  \\\n",
       "0       0.150  250.000000   542.599008      Eucalyptus       13.797   \n",
       "1       0.127  142.521927     0.000000             HAG       98.236   \n",
       "2       0.176   25.000000     0.000000  MOF Old-growth       71.117   \n",
       "3       0.115   35.355339   288.532898   MOF secondary        6.937   \n",
       "4       0.115    0.000000    24.994002  ODF Old-growth      924.385   \n",
       "..        ...         ...          ...             ...          ...   \n",
       "537     0.113  187.500000     0.000000             NaN          NaN   \n",
       "538     0.130  132.876831    12.497001             NaN          NaN   \n",
       "539     0.358  100.000000  2139.631935             NaN          NaN   \n",
       "540     0.210   97.628120   514.810033             NaN          NaN   \n",
       "541     0.063   12.500000   436.506096             NaN          NaN   \n",
       "\n",
       "     Average of loss/há  Sum of Carbon storage  \n",
       "0            -37.477303            -501.998336  \n",
       "1             -4.609429            -424.032223  \n",
       "2            -37.804206           -2737.283413  \n",
       "3            -20.666422            -155.801016  \n",
       "4            -45.231122          -44099.613588  \n",
       "..                  ...                    ...  \n",
       "537                 NaN                    NaN  \n",
       "538                 NaN                    NaN  \n",
       "539                 NaN                    NaN  \n",
       "540                 NaN                    NaN  \n",
       "541                 NaN                    NaN  \n",
       "\n",
       "[542 rows x 32 columns]>"
      ]
     },
     "execution_count": 11,
     "metadata": {},
     "output_type": "execute_result"
    }
   ],
   "source": [
    "df.info"
   ]
  },
  {
   "cell_type": "code",
   "execution_count": 20,
   "metadata": {},
   "outputs": [
    {
     "name": "stdout",
     "output_type": "stream",
     "text": [
      "Collecting scikit_posthocs\n",
      "  Downloading scikit_posthocs-0.8.0-py3-none-any.whl (32 kB)\n",
      "Requirement already satisfied: seaborn in c:\\users\\cheil\\anaconda3\\lib\\site-packages (from scikit_posthocs) (0.11.0)\n",
      "Requirement already satisfied: numpy in c:\\users\\cheil\\anaconda3\\lib\\site-packages (from scikit_posthocs) (1.19.2)\n",
      "Requirement already satisfied: pandas>=0.20.0 in c:\\users\\cheil\\anaconda3\\lib\\site-packages (from scikit_posthocs) (1.1.3)\n",
      "Requirement already satisfied: scipy in c:\\users\\cheil\\anaconda3\\lib\\site-packages (from scikit_posthocs) (1.7.3)\n",
      "Requirement already satisfied: matplotlib in c:\\users\\cheil\\anaconda3\\lib\\site-packages (from scikit_posthocs) (3.3.2)\n",
      "Requirement already satisfied: statsmodels in c:\\users\\cheil\\anaconda3\\lib\\site-packages (from scikit_posthocs) (0.12.0)\n",
      "Requirement already satisfied: pytz>=2017.2 in c:\\users\\cheil\\anaconda3\\lib\\site-packages (from pandas>=0.20.0->scikit_posthocs) (2020.1)\n",
      "Requirement already satisfied: python-dateutil>=2.7.3 in c:\\users\\cheil\\anaconda3\\lib\\site-packages (from pandas>=0.20.0->scikit_posthocs) (2.8.1)\n",
      "Requirement already satisfied: kiwisolver>=1.0.1 in c:\\users\\cheil\\anaconda3\\lib\\site-packages (from matplotlib->scikit_posthocs) (1.3.0)\n",
      "Requirement already satisfied: pillow>=6.2.0 in c:\\users\\cheil\\anaconda3\\lib\\site-packages (from matplotlib->scikit_posthocs) (8.0.1)\n",
      "Requirement already satisfied: certifi>=2020.06.20 in c:\\users\\cheil\\anaconda3\\lib\\site-packages (from matplotlib->scikit_posthocs) (2020.6.20)\n",
      "Requirement already satisfied: pyparsing!=2.0.4,!=2.1.2,!=2.1.6,>=2.0.3 in c:\\users\\cheil\\anaconda3\\lib\\site-packages (from matplotlib->scikit_posthocs) (2.4.7)\n",
      "Requirement already satisfied: cycler>=0.10 in c:\\users\\cheil\\anaconda3\\lib\\site-packages (from matplotlib->scikit_posthocs) (0.10.0)\n",
      "Requirement already satisfied: patsy>=0.5 in c:\\users\\cheil\\anaconda3\\lib\\site-packages (from statsmodels->scikit_posthocs) (0.5.1)\n",
      "Requirement already satisfied: six in c:\\users\\cheil\\anaconda3\\lib\\site-packages (from cycler>=0.10->matplotlib->scikit_posthocs) (1.15.0)\n",
      "Installing collected packages: scikit_posthocs\n",
      "Successfully installed scikit_posthocs-0.8.0\n",
      "Note: you may need to restart the kernel to use updated packages.\n"
     ]
    },
    {
     "name": "stderr",
     "output_type": "stream",
     "text": [
      "\n",
      "[notice] A new release of pip is available: 23.0.1 -> 23.3.1\n",
      "[notice] To update, run: python.exe -m pip install --upgrade pip\n"
     ]
    }
   ],
   "source": [
    "pip install scikit_posthocs"
   ]
  },
  {
   "cell_type": "code",
   "execution_count": 18,
   "metadata": {},
   "outputs": [
    {
     "ename": "ModuleNotFoundError",
     "evalue": "No module named 'scikitlearning'",
     "output_type": "error",
     "traceback": [
      "\u001b[1;31m---------------------------------------------------------------------------\u001b[0m",
      "\u001b[1;31mModuleNotFoundError\u001b[0m                       Traceback (most recent call last)",
      "\u001b[1;32m<ipython-input-18-9bcda5b61ff0>\u001b[0m in \u001b[0;36m<module>\u001b[1;34m\u001b[0m\n\u001b[1;32m----> 1\u001b[1;33m \u001b[1;32mfrom\u001b[0m \u001b[0mscikitlearning\u001b[0m \u001b[1;32mimport\u001b[0m \u001b[0mposthocs\u001b[0m \u001b[1;32mas\u001b[0m \u001b[0msp\u001b[0m\u001b[1;33m\u001b[0m\u001b[1;33m\u001b[0m\u001b[0m\n\u001b[0m\u001b[0;32m      2\u001b[0m \u001b[1;33m\u001b[0m\u001b[0m\n\u001b[0;32m      3\u001b[0m post_hoc = sp.posthoc_conover(df, val_col='loss/há', group_col='LULC', \\\n\u001b[0;32m      4\u001b[0m                               p_adjust = 'holm')\n\u001b[0;32m      5\u001b[0m \u001b[0mpost_hoc\u001b[0m\u001b[1;33m\u001b[0m\u001b[1;33m\u001b[0m\u001b[0m\n",
      "\u001b[1;31mModuleNotFoundError\u001b[0m: No module named 'scikitlearning'"
     ]
    }
   ],
   "source": [
    "import scikit_posthocs as sp\n",
    "\n",
    "post_hoc = sp.posthoc_conover(df, val_col='loss/há', group_col='LULC', \\\n",
    "                              p_adjust = 'holm')\n",
    "post_hoc"
   ]
  },
  {
   "cell_type": "code",
   "execution_count": 15,
   "metadata": {},
   "outputs": [
    {
     "data": {
      "text/plain": [
       "WilcoxonResult(statistic=0.0, pvalue=1.2892115065277056e-98)"
      ]
     },
     "execution_count": 15,
     "metadata": {},
     "output_type": "execute_result"
    }
   ],
   "source": [
    "stats.wilcoxon(df['Frequency'])\n",
    "#stats.ttest_rel(df['Average_pre'], df['Average_post'])"
   ]
  },
  {
   "cell_type": "code",
   "execution_count": 50,
   "metadata": {},
   "outputs": [
    {
     "data": {
      "text/plain": [
       "WilcoxonResult(statistic=1478.0, pvalue=6.813321631321221e-15)"
      ]
     },
     "execution_count": 50,
     "metadata": {},
     "output_type": "execute_result"
    }
   ],
   "source": [
    "\n",
    "stats.wilcoxon(df['NBR_PRE_N'], df['NDVI_PRE_N'])"
   ]
  },
  {
   "cell_type": "code",
   "execution_count": 51,
   "metadata": {},
   "outputs": [
    {
     "data": {
      "text/plain": [
       "WilcoxonResult(statistic=589.0, pvalue=2.728573188105158e-21)"
      ]
     },
     "execution_count": 51,
     "metadata": {},
     "output_type": "execute_result"
    }
   ],
   "source": [
    "stats.wilcoxon(df['NBR_POST_N'], df['NDVI_POST_N'])"
   ]
  },
  {
   "cell_type": "code",
   "execution_count": 52,
   "metadata": {},
   "outputs": [
    {
     "data": {
      "text/plain": [
       "WilcoxonResult(statistic=0.0, pvalue=9.406554782201398e-27)"
      ]
     },
     "execution_count": 52,
     "metadata": {},
     "output_type": "execute_result"
    }
   ],
   "source": [
    "stats.wilcoxon(df['Average_pre'], df['MIN_pre'])"
   ]
  },
  {
   "cell_type": "code",
   "execution_count": 53,
   "metadata": {},
   "outputs": [
    {
     "data": {
      "text/plain": [
       "WilcoxonResult(statistic=28.0, pvalue=5.906592964124304e-26)"
      ]
     },
     "execution_count": 53,
     "metadata": {},
     "output_type": "execute_result"
    }
   ],
   "source": [
    "stats.wilcoxon(df['NBR_PRE_N'], df['NBR_POST_N'])"
   ]
  },
  {
   "cell_type": "code",
   "execution_count": 54,
   "metadata": {},
   "outputs": [
    {
     "data": {
      "text/plain": [
       "WilcoxonResult(statistic=1714.5, pvalue=3.5571114631432827e-13)"
      ]
     },
     "execution_count": 54,
     "metadata": {},
     "output_type": "execute_result"
    }
   ],
   "source": [
    "stats.wilcoxon(df['NDVI_PRE_N'], df['NDVI_POST_N'])"
   ]
  },
  {
   "cell_type": "code",
   "execution_count": 57,
   "metadata": {},
   "outputs": [
    {
     "data": {
      "text/plain": [
       "WilcoxonResult(statistic=3313.0, pvalue=1.629622145169545e-05)"
      ]
     },
     "execution_count": 57,
     "metadata": {},
     "output_type": "execute_result"
    }
   ],
   "source": [
    "stats.wilcoxon(df['DIF_BIOM'], df['DIF_NDVI'])"
   ]
  },
  {
   "cell_type": "code",
   "execution_count": 58,
   "metadata": {},
   "outputs": [
    {
     "data": {
      "text/plain": [
       "Ttest_relResult(statistic=5.044680707993011, pvalue=1.3123440189630544e-06)"
      ]
     },
     "execution_count": 58,
     "metadata": {},
     "output_type": "execute_result"
    }
   ],
   "source": [
    "stats.ttest_rel(df['DIF_BIOM'], df['DIF_NDVI'])"
   ]
  },
  {
   "cell_type": "code",
   "execution_count": null,
   "metadata": {},
   "outputs": [],
   "source": []
  }
 ],
 "metadata": {
  "kernelspec": {
   "display_name": "Python 3",
   "language": "python",
   "name": "python3"
  },
  "language_info": {
   "codemirror_mode": {
    "name": "ipython",
    "version": 3
   },
   "file_extension": ".py",
   "mimetype": "text/x-python",
   "name": "python",
   "nbconvert_exporter": "python",
   "pygments_lexer": "ipython3",
   "version": "3.8.5"
  }
 },
 "nbformat": 4,
 "nbformat_minor": 4
}
