{
 "cells": [
  {
   "cell_type": "code",
   "execution_count": 330,
   "metadata": {},
   "outputs": [],
   "source": [
    "import matplotlib.pyplot as plt\n",
    "import matplotlib.gridspec as gridspec\n",
    "from matplotlib import cm\n",
    "import pandas as pd\n",
    "import numpy as np\n",
    "import seaborn as sns\n",
    "from scipy import stats\n",
    "from scipy.stats import linregress\n",
    "dir(stats)\n",
    "import csv\n",
    "\n",
    "#from matplotlib import rcParams\n",
    "#rcParams['text.usetex'] = True\n",
    "#rcParams['text.latex.preamble'] = r'\\usepackage{amsmath}'\n",
    "\n",
    "from sklearn import linear_model\n",
    "from sklearn.preprocessing import PolynomialFeatures\n",
    "\n"
   ]
  },
  {
   "cell_type": "code",
   "execution_count": 331,
   "metadata": {},
   "outputs": [],
   "source": [
    "# Função de leitura dos dados------------------------------------\n",
    "def pd_data(path):\n",
    "    with open(path, newline='') as f:\n",
    "        reader = csv.reader(f,delimiter=',')\n",
    "        next(reader, None)  # ignora o cabeçalho\n",
    "        for row in reader:\n",
    "            try:\n",
    "                data = np.vstack( (data , np.asarray(row).astype(np.float) ) )\n",
    "            except:\n",
    "                data = np.asarray(row).astype(np.float)\n",
    "    f.close()\n",
    "    return data"
   ]
  },
  {
   "cell_type": "code",
   "execution_count": 332,
   "metadata": {},
   "outputs": [],
   "source": [
    "\n",
    "df = pd.read_excel ('Carbon_results.xlsx') #Read excel file\n",
    "#df = df[['BIOM','DROUGHT','AREA','SEVERITY','FREQ']]\n",
    "#df = df[df['IBGE']=='P']"
   ]
  },
  {
   "cell_type": "code",
   "execution_count": 334,
   "metadata": {},
   "outputs": [
    {
     "ename": "KeyError",
     "evalue": "'AREA'",
     "output_type": "error",
     "traceback": [
      "\u001b[1;31m---------------------------------------------------------------------------\u001b[0m",
      "\u001b[1;31mKeyError\u001b[0m                                  Traceback (most recent call last)",
      "\u001b[1;32m~\\anaconda3\\lib\\site-packages\\pandas\\core\\indexes\\base.py\u001b[0m in \u001b[0;36mget_loc\u001b[1;34m(self, key, method, tolerance)\u001b[0m\n\u001b[0;32m   2894\u001b[0m             \u001b[1;32mtry\u001b[0m\u001b[1;33m:\u001b[0m\u001b[1;33m\u001b[0m\u001b[1;33m\u001b[0m\u001b[0m\n\u001b[1;32m-> 2895\u001b[1;33m                 \u001b[1;32mreturn\u001b[0m \u001b[0mself\u001b[0m\u001b[1;33m.\u001b[0m\u001b[0m_engine\u001b[0m\u001b[1;33m.\u001b[0m\u001b[0mget_loc\u001b[0m\u001b[1;33m(\u001b[0m\u001b[0mcasted_key\u001b[0m\u001b[1;33m)\u001b[0m\u001b[1;33m\u001b[0m\u001b[1;33m\u001b[0m\u001b[0m\n\u001b[0m\u001b[0;32m   2896\u001b[0m             \u001b[1;32mexcept\u001b[0m \u001b[0mKeyError\u001b[0m \u001b[1;32mas\u001b[0m \u001b[0merr\u001b[0m\u001b[1;33m:\u001b[0m\u001b[1;33m\u001b[0m\u001b[1;33m\u001b[0m\u001b[0m\n",
      "\u001b[1;32mpandas\\_libs\\index.pyx\u001b[0m in \u001b[0;36mpandas._libs.index.IndexEngine.get_loc\u001b[1;34m()\u001b[0m\n",
      "\u001b[1;32mpandas\\_libs\\index.pyx\u001b[0m in \u001b[0;36mpandas._libs.index.IndexEngine.get_loc\u001b[1;34m()\u001b[0m\n",
      "\u001b[1;32mpandas\\_libs\\hashtable_class_helper.pxi\u001b[0m in \u001b[0;36mpandas._libs.hashtable.PyObjectHashTable.get_item\u001b[1;34m()\u001b[0m\n",
      "\u001b[1;32mpandas\\_libs\\hashtable_class_helper.pxi\u001b[0m in \u001b[0;36mpandas._libs.hashtable.PyObjectHashTable.get_item\u001b[1;34m()\u001b[0m\n",
      "\u001b[1;31mKeyError\u001b[0m: 'AREA'",
      "\nThe above exception was the direct cause of the following exception:\n",
      "\u001b[1;31mKeyError\u001b[0m                                  Traceback (most recent call last)",
      "\u001b[1;32m<ipython-input-334-6a4fc378d4ea>\u001b[0m in \u001b[0;36m<module>\u001b[1;34m\u001b[0m\n\u001b[1;32m----> 1\u001b[1;33m sns.pairplot(df, x_vars=['DROUGHT','AREA','ELEVATION','SLOPE','RADIATION','SEVERITY','RIVERS','ROADS','FREQ'], y_vars=[\"Carbon storage\"],\n\u001b[0m\u001b[0;32m      2\u001b[0m              hue=\"LULC\", height=5, aspect=.8, kind=\"reg\");\n\u001b[0;32m      3\u001b[0m \u001b[1;33m\u001b[0m\u001b[0m\n\u001b[0;32m      4\u001b[0m \u001b[1;33m\u001b[0m\u001b[0m\n\u001b[0;32m      5\u001b[0m \u001b[0mplt\u001b[0m\u001b[1;33m.\u001b[0m\u001b[0mshow\u001b[0m\u001b[1;33m(\u001b[0m\u001b[1;33m)\u001b[0m\u001b[1;33m\u001b[0m\u001b[1;33m\u001b[0m\u001b[0m\n",
      "\u001b[1;32m~\\anaconda3\\lib\\site-packages\\seaborn\\_decorators.py\u001b[0m in \u001b[0;36minner_f\u001b[1;34m(*args, **kwargs)\u001b[0m\n\u001b[0;32m     44\u001b[0m             )\n\u001b[0;32m     45\u001b[0m         \u001b[0mkwargs\u001b[0m\u001b[1;33m.\u001b[0m\u001b[0mupdate\u001b[0m\u001b[1;33m(\u001b[0m\u001b[1;33m{\u001b[0m\u001b[0mk\u001b[0m\u001b[1;33m:\u001b[0m \u001b[0marg\u001b[0m \u001b[1;32mfor\u001b[0m \u001b[0mk\u001b[0m\u001b[1;33m,\u001b[0m \u001b[0marg\u001b[0m \u001b[1;32min\u001b[0m \u001b[0mzip\u001b[0m\u001b[1;33m(\u001b[0m\u001b[0msig\u001b[0m\u001b[1;33m.\u001b[0m\u001b[0mparameters\u001b[0m\u001b[1;33m,\u001b[0m \u001b[0margs\u001b[0m\u001b[1;33m)\u001b[0m\u001b[1;33m}\u001b[0m\u001b[1;33m)\u001b[0m\u001b[1;33m\u001b[0m\u001b[1;33m\u001b[0m\u001b[0m\n\u001b[1;32m---> 46\u001b[1;33m         \u001b[1;32mreturn\u001b[0m \u001b[0mf\u001b[0m\u001b[1;33m(\u001b[0m\u001b[1;33m**\u001b[0m\u001b[0mkwargs\u001b[0m\u001b[1;33m)\u001b[0m\u001b[1;33m\u001b[0m\u001b[1;33m\u001b[0m\u001b[0m\n\u001b[0m\u001b[0;32m     47\u001b[0m     \u001b[1;32mreturn\u001b[0m \u001b[0minner_f\u001b[0m\u001b[1;33m\u001b[0m\u001b[1;33m\u001b[0m\u001b[0m\n\u001b[0;32m     48\u001b[0m \u001b[1;33m\u001b[0m\u001b[0m\n",
      "\u001b[1;32m~\\anaconda3\\lib\\site-packages\\seaborn\\axisgrid.py\u001b[0m in \u001b[0;36mpairplot\u001b[1;34m(data, hue, hue_order, palette, vars, x_vars, y_vars, kind, diag_kind, markers, height, aspect, corner, dropna, plot_kws, diag_kws, grid_kws, size)\u001b[0m\n\u001b[0;32m   1975\u001b[0m     \u001b[1;32melif\u001b[0m \u001b[0mkind\u001b[0m \u001b[1;33m==\u001b[0m \u001b[1;34m\"reg\"\u001b[0m\u001b[1;33m:\u001b[0m\u001b[1;33m\u001b[0m\u001b[1;33m\u001b[0m\u001b[0m\n\u001b[0;32m   1976\u001b[0m         \u001b[1;32mfrom\u001b[0m \u001b[1;33m.\u001b[0m\u001b[0mregression\u001b[0m \u001b[1;32mimport\u001b[0m \u001b[0mregplot\u001b[0m  \u001b[1;31m# Avoid circular import\u001b[0m\u001b[1;33m\u001b[0m\u001b[1;33m\u001b[0m\u001b[0m\n\u001b[1;32m-> 1977\u001b[1;33m         \u001b[0mplotter\u001b[0m\u001b[1;33m(\u001b[0m\u001b[0mregplot\u001b[0m\u001b[1;33m,\u001b[0m \u001b[1;33m**\u001b[0m\u001b[0mplot_kws\u001b[0m\u001b[1;33m)\u001b[0m\u001b[1;33m\u001b[0m\u001b[1;33m\u001b[0m\u001b[0m\n\u001b[0m\u001b[0;32m   1978\u001b[0m     \u001b[1;32melif\u001b[0m \u001b[0mkind\u001b[0m \u001b[1;33m==\u001b[0m \u001b[1;34m\"kde\"\u001b[0m\u001b[1;33m:\u001b[0m\u001b[1;33m\u001b[0m\u001b[1;33m\u001b[0m\u001b[0m\n\u001b[0;32m   1979\u001b[0m         \u001b[1;32mfrom\u001b[0m \u001b[1;33m.\u001b[0m\u001b[0mdistributions\u001b[0m \u001b[1;32mimport\u001b[0m \u001b[0mkdeplot\u001b[0m  \u001b[1;31m# Avoid circular import\u001b[0m\u001b[1;33m\u001b[0m\u001b[1;33m\u001b[0m\u001b[0m\n",
      "\u001b[1;32m~\\anaconda3\\lib\\site-packages\\seaborn\\axisgrid.py\u001b[0m in \u001b[0;36mmap_offdiag\u001b[1;34m(self, func, **kwargs)\u001b[0m\n\u001b[0;32m   1296\u001b[0m         \u001b[0mself\u001b[0m\u001b[1;33m.\u001b[0m\u001b[0mmap_lower\u001b[0m\u001b[1;33m(\u001b[0m\u001b[0mfunc\u001b[0m\u001b[1;33m,\u001b[0m \u001b[1;33m**\u001b[0m\u001b[0mkwargs\u001b[0m\u001b[1;33m)\u001b[0m\u001b[1;33m\u001b[0m\u001b[1;33m\u001b[0m\u001b[0m\n\u001b[0;32m   1297\u001b[0m         \u001b[1;32mif\u001b[0m \u001b[1;32mnot\u001b[0m \u001b[0mself\u001b[0m\u001b[1;33m.\u001b[0m\u001b[0m_corner\u001b[0m\u001b[1;33m:\u001b[0m\u001b[1;33m\u001b[0m\u001b[1;33m\u001b[0m\u001b[0m\n\u001b[1;32m-> 1298\u001b[1;33m             \u001b[0mself\u001b[0m\u001b[1;33m.\u001b[0m\u001b[0mmap_upper\u001b[0m\u001b[1;33m(\u001b[0m\u001b[0mfunc\u001b[0m\u001b[1;33m,\u001b[0m \u001b[1;33m**\u001b[0m\u001b[0mkwargs\u001b[0m\u001b[1;33m)\u001b[0m\u001b[1;33m\u001b[0m\u001b[1;33m\u001b[0m\u001b[0m\n\u001b[0m\u001b[0;32m   1299\u001b[0m         \u001b[1;32mreturn\u001b[0m \u001b[0mself\u001b[0m\u001b[1;33m\u001b[0m\u001b[1;33m\u001b[0m\u001b[0m\n\u001b[0;32m   1300\u001b[0m \u001b[1;33m\u001b[0m\u001b[0m\n",
      "\u001b[1;32m~\\anaconda3\\lib\\site-packages\\seaborn\\axisgrid.py\u001b[0m in \u001b[0;36mmap_upper\u001b[1;34m(self, func, **kwargs)\u001b[0m\n\u001b[0;32m   1279\u001b[0m         \"\"\"\n\u001b[0;32m   1280\u001b[0m         \u001b[0mindices\u001b[0m \u001b[1;33m=\u001b[0m \u001b[0mzip\u001b[0m\u001b[1;33m(\u001b[0m\u001b[1;33m*\u001b[0m\u001b[0mnp\u001b[0m\u001b[1;33m.\u001b[0m\u001b[0mtriu_indices_from\u001b[0m\u001b[1;33m(\u001b[0m\u001b[0mself\u001b[0m\u001b[1;33m.\u001b[0m\u001b[0maxes\u001b[0m\u001b[1;33m,\u001b[0m \u001b[1;36m1\u001b[0m\u001b[1;33m)\u001b[0m\u001b[1;33m)\u001b[0m\u001b[1;33m\u001b[0m\u001b[1;33m\u001b[0m\u001b[0m\n\u001b[1;32m-> 1281\u001b[1;33m         \u001b[0mself\u001b[0m\u001b[1;33m.\u001b[0m\u001b[0m_map_bivariate\u001b[0m\u001b[1;33m(\u001b[0m\u001b[0mfunc\u001b[0m\u001b[1;33m,\u001b[0m \u001b[0mindices\u001b[0m\u001b[1;33m,\u001b[0m \u001b[1;33m**\u001b[0m\u001b[0mkwargs\u001b[0m\u001b[1;33m)\u001b[0m\u001b[1;33m\u001b[0m\u001b[1;33m\u001b[0m\u001b[0m\n\u001b[0m\u001b[0;32m   1282\u001b[0m         \u001b[1;32mreturn\u001b[0m \u001b[0mself\u001b[0m\u001b[1;33m\u001b[0m\u001b[1;33m\u001b[0m\u001b[0m\n\u001b[0;32m   1283\u001b[0m \u001b[1;33m\u001b[0m\u001b[0m\n",
      "\u001b[1;32m~\\anaconda3\\lib\\site-packages\\seaborn\\axisgrid.py\u001b[0m in \u001b[0;36m_map_bivariate\u001b[1;34m(self, func, indices, **kwargs)\u001b[0m\n\u001b[0;32m   1432\u001b[0m             \u001b[0my_var\u001b[0m \u001b[1;33m=\u001b[0m \u001b[0mself\u001b[0m\u001b[1;33m.\u001b[0m\u001b[0my_vars\u001b[0m\u001b[1;33m[\u001b[0m\u001b[0mi\u001b[0m\u001b[1;33m]\u001b[0m\u001b[1;33m\u001b[0m\u001b[1;33m\u001b[0m\u001b[0m\n\u001b[0;32m   1433\u001b[0m             \u001b[0max\u001b[0m \u001b[1;33m=\u001b[0m \u001b[0mself\u001b[0m\u001b[1;33m.\u001b[0m\u001b[0maxes\u001b[0m\u001b[1;33m[\u001b[0m\u001b[0mi\u001b[0m\u001b[1;33m,\u001b[0m \u001b[0mj\u001b[0m\u001b[1;33m]\u001b[0m\u001b[1;33m\u001b[0m\u001b[1;33m\u001b[0m\u001b[0m\n\u001b[1;32m-> 1434\u001b[1;33m             \u001b[0mself\u001b[0m\u001b[1;33m.\u001b[0m\u001b[0m_plot_bivariate\u001b[0m\u001b[1;33m(\u001b[0m\u001b[0mx_var\u001b[0m\u001b[1;33m,\u001b[0m \u001b[0my_var\u001b[0m\u001b[1;33m,\u001b[0m \u001b[0max\u001b[0m\u001b[1;33m,\u001b[0m \u001b[0mfunc\u001b[0m\u001b[1;33m,\u001b[0m \u001b[1;33m**\u001b[0m\u001b[0mkws\u001b[0m\u001b[1;33m)\u001b[0m\u001b[1;33m\u001b[0m\u001b[1;33m\u001b[0m\u001b[0m\n\u001b[0m\u001b[0;32m   1435\u001b[0m         \u001b[0mself\u001b[0m\u001b[1;33m.\u001b[0m\u001b[0m_add_axis_labels\u001b[0m\u001b[1;33m(\u001b[0m\u001b[1;33m)\u001b[0m\u001b[1;33m\u001b[0m\u001b[1;33m\u001b[0m\u001b[0m\n\u001b[0;32m   1436\u001b[0m \u001b[1;33m\u001b[0m\u001b[0m\n",
      "\u001b[1;32m~\\anaconda3\\lib\\site-packages\\seaborn\\axisgrid.py\u001b[0m in \u001b[0;36m_plot_bivariate\u001b[1;34m(self, x_var, y_var, ax, func, **kwargs)\u001b[0m\n\u001b[0;32m   1441\u001b[0m         \u001b[1;34m\"\"\"Draw a bivariate plot on the specified axes.\"\"\"\u001b[0m\u001b[1;33m\u001b[0m\u001b[1;33m\u001b[0m\u001b[0m\n\u001b[0;32m   1442\u001b[0m         \u001b[1;32mif\u001b[0m \u001b[1;34m\"hue\"\u001b[0m \u001b[1;32mnot\u001b[0m \u001b[1;32min\u001b[0m \u001b[0msignature\u001b[0m\u001b[1;33m(\u001b[0m\u001b[0mfunc\u001b[0m\u001b[1;33m)\u001b[0m\u001b[1;33m.\u001b[0m\u001b[0mparameters\u001b[0m\u001b[1;33m:\u001b[0m\u001b[1;33m\u001b[0m\u001b[1;33m\u001b[0m\u001b[0m\n\u001b[1;32m-> 1443\u001b[1;33m             \u001b[0mself\u001b[0m\u001b[1;33m.\u001b[0m\u001b[0m_plot_bivariate_iter_hue\u001b[0m\u001b[1;33m(\u001b[0m\u001b[0mx_var\u001b[0m\u001b[1;33m,\u001b[0m \u001b[0my_var\u001b[0m\u001b[1;33m,\u001b[0m \u001b[0max\u001b[0m\u001b[1;33m,\u001b[0m \u001b[0mfunc\u001b[0m\u001b[1;33m,\u001b[0m \u001b[1;33m**\u001b[0m\u001b[0mkwargs\u001b[0m\u001b[1;33m)\u001b[0m\u001b[1;33m\u001b[0m\u001b[1;33m\u001b[0m\u001b[0m\n\u001b[0m\u001b[0;32m   1444\u001b[0m             \u001b[1;32mreturn\u001b[0m\u001b[1;33m\u001b[0m\u001b[1;33m\u001b[0m\u001b[0m\n\u001b[0;32m   1445\u001b[0m \u001b[1;33m\u001b[0m\u001b[0m\n",
      "\u001b[1;32m~\\anaconda3\\lib\\site-packages\\seaborn\\axisgrid.py\u001b[0m in \u001b[0;36m_plot_bivariate_iter_hue\u001b[1;34m(self, x_var, y_var, ax, func, **kwargs)\u001b[0m\n\u001b[0;32m   1497\u001b[0m                 \u001b[0mdata_k\u001b[0m \u001b[1;33m=\u001b[0m \u001b[0mdata_k\u001b[0m\u001b[1;33m[\u001b[0m\u001b[0maxes_vars\u001b[0m\u001b[1;33m]\u001b[0m\u001b[1;33m.\u001b[0m\u001b[0mdropna\u001b[0m\u001b[1;33m(\u001b[0m\u001b[1;33m)\u001b[0m\u001b[1;33m\u001b[0m\u001b[1;33m\u001b[0m\u001b[0m\n\u001b[0;32m   1498\u001b[0m \u001b[1;33m\u001b[0m\u001b[0m\n\u001b[1;32m-> 1499\u001b[1;33m             \u001b[0mx\u001b[0m \u001b[1;33m=\u001b[0m \u001b[0mdata_k\u001b[0m\u001b[1;33m[\u001b[0m\u001b[0mx_var\u001b[0m\u001b[1;33m]\u001b[0m\u001b[1;33m\u001b[0m\u001b[1;33m\u001b[0m\u001b[0m\n\u001b[0m\u001b[0;32m   1500\u001b[0m             \u001b[0my\u001b[0m \u001b[1;33m=\u001b[0m \u001b[0mdata_k\u001b[0m\u001b[1;33m[\u001b[0m\u001b[0my_var\u001b[0m\u001b[1;33m]\u001b[0m\u001b[1;33m\u001b[0m\u001b[1;33m\u001b[0m\u001b[0m\n\u001b[0;32m   1501\u001b[0m \u001b[1;33m\u001b[0m\u001b[0m\n",
      "\u001b[1;32m~\\anaconda3\\lib\\site-packages\\pandas\\core\\frame.py\u001b[0m in \u001b[0;36m__getitem__\u001b[1;34m(self, key)\u001b[0m\n\u001b[0;32m   2900\u001b[0m             \u001b[1;32mif\u001b[0m \u001b[0mself\u001b[0m\u001b[1;33m.\u001b[0m\u001b[0mcolumns\u001b[0m\u001b[1;33m.\u001b[0m\u001b[0mnlevels\u001b[0m \u001b[1;33m>\u001b[0m \u001b[1;36m1\u001b[0m\u001b[1;33m:\u001b[0m\u001b[1;33m\u001b[0m\u001b[1;33m\u001b[0m\u001b[0m\n\u001b[0;32m   2901\u001b[0m                 \u001b[1;32mreturn\u001b[0m \u001b[0mself\u001b[0m\u001b[1;33m.\u001b[0m\u001b[0m_getitem_multilevel\u001b[0m\u001b[1;33m(\u001b[0m\u001b[0mkey\u001b[0m\u001b[1;33m)\u001b[0m\u001b[1;33m\u001b[0m\u001b[1;33m\u001b[0m\u001b[0m\n\u001b[1;32m-> 2902\u001b[1;33m             \u001b[0mindexer\u001b[0m \u001b[1;33m=\u001b[0m \u001b[0mself\u001b[0m\u001b[1;33m.\u001b[0m\u001b[0mcolumns\u001b[0m\u001b[1;33m.\u001b[0m\u001b[0mget_loc\u001b[0m\u001b[1;33m(\u001b[0m\u001b[0mkey\u001b[0m\u001b[1;33m)\u001b[0m\u001b[1;33m\u001b[0m\u001b[1;33m\u001b[0m\u001b[0m\n\u001b[0m\u001b[0;32m   2903\u001b[0m             \u001b[1;32mif\u001b[0m \u001b[0mis_integer\u001b[0m\u001b[1;33m(\u001b[0m\u001b[0mindexer\u001b[0m\u001b[1;33m)\u001b[0m\u001b[1;33m:\u001b[0m\u001b[1;33m\u001b[0m\u001b[1;33m\u001b[0m\u001b[0m\n\u001b[0;32m   2904\u001b[0m                 \u001b[0mindexer\u001b[0m \u001b[1;33m=\u001b[0m \u001b[1;33m[\u001b[0m\u001b[0mindexer\u001b[0m\u001b[1;33m]\u001b[0m\u001b[1;33m\u001b[0m\u001b[1;33m\u001b[0m\u001b[0m\n",
      "\u001b[1;32m~\\anaconda3\\lib\\site-packages\\pandas\\core\\indexes\\base.py\u001b[0m in \u001b[0;36mget_loc\u001b[1;34m(self, key, method, tolerance)\u001b[0m\n\u001b[0;32m   2895\u001b[0m                 \u001b[1;32mreturn\u001b[0m \u001b[0mself\u001b[0m\u001b[1;33m.\u001b[0m\u001b[0m_engine\u001b[0m\u001b[1;33m.\u001b[0m\u001b[0mget_loc\u001b[0m\u001b[1;33m(\u001b[0m\u001b[0mcasted_key\u001b[0m\u001b[1;33m)\u001b[0m\u001b[1;33m\u001b[0m\u001b[1;33m\u001b[0m\u001b[0m\n\u001b[0;32m   2896\u001b[0m             \u001b[1;32mexcept\u001b[0m \u001b[0mKeyError\u001b[0m \u001b[1;32mas\u001b[0m \u001b[0merr\u001b[0m\u001b[1;33m:\u001b[0m\u001b[1;33m\u001b[0m\u001b[1;33m\u001b[0m\u001b[0m\n\u001b[1;32m-> 2897\u001b[1;33m                 \u001b[1;32mraise\u001b[0m \u001b[0mKeyError\u001b[0m\u001b[1;33m(\u001b[0m\u001b[0mkey\u001b[0m\u001b[1;33m)\u001b[0m \u001b[1;32mfrom\u001b[0m \u001b[0merr\u001b[0m\u001b[1;33m\u001b[0m\u001b[1;33m\u001b[0m\u001b[0m\n\u001b[0m\u001b[0;32m   2898\u001b[0m \u001b[1;33m\u001b[0m\u001b[0m\n\u001b[0;32m   2899\u001b[0m         \u001b[1;32mif\u001b[0m \u001b[0mtolerance\u001b[0m \u001b[1;32mis\u001b[0m \u001b[1;32mnot\u001b[0m \u001b[1;32mNone\u001b[0m\u001b[1;33m:\u001b[0m\u001b[1;33m\u001b[0m\u001b[1;33m\u001b[0m\u001b[0m\n",
      "\u001b[1;31mKeyError\u001b[0m: 'AREA'"
     ]
    },
    {
     "data": {
      "image/png": "[encoded data removed]",
      "text/plain": [
       "<Figure size 2592x360 with 9 Axes>"
      ]
     },
     "metadata": {},
     "output_type": "display_data"
    }
   ],
   "source": [
    "sns.pairplot(df, x_vars=['DROUGHT','AREA','ELEVATION','SLOPE','RADIATION','SEVERITY','RIVERS','ROADS','FREQ'], y_vars=[\"Carbon storage\"],\n",
    "             hue=\"LULC\", height=5, aspect=.8, kind=\"reg\");\n",
    "\n",
    "             \n",
    "plt.show()"
   ]
  },
  {
   "cell_type": "code",
   "execution_count": null,
   "metadata": {},
   "outputs": [],
   "source": [
    "df = pd.read_excel ('Carbon_results.xlsx') #Read excel file\n",
    "df = df[df['IBGE']=='D']\n",
    "sns.pairplot(df, x_vars=[\"RIVERS\", \"FREQ\", \"DROUGHT\",\"SEVERITY\"], y_vars=[\"Carbon storage\"],\n",
    "             hue=\"LULC\", height=5, aspect=.8, kind=\"reg\");"
   ]
  },
  {
   "cell_type": "code",
   "execution_count": null,
   "metadata": {},
   "outputs": [],
   "source": [
    "df = pd.read_excel ('Carbon_results.xlsx') #Read excel file\n",
    "df = df[df['IBGE']=='M']\n",
    "sns.pairplot(df, x_vars=[\"RIVERS\", \"FREQ\", \"DROUGHT\",\"SEVERITY\"], y_vars=[\"Carbon storage\"],\n",
    "             hue=\"LULC\", height=5, aspect=.8, kind=\"reg\");"
   ]
  },
  {
   "cell_type": "code",
   "execution_count": null,
   "metadata": {},
   "outputs": [],
   "source": [
    "df = pd.read_excel ('Carbon_results.xlsx') #Read excel file\n",
    "df = df[df['IBGE']=='r']\n",
    "sns.pairplot(df, x_vars=[\"RIVERS\", \"FREQ\", \"DROUGHT\",\"SEVERITY\"], y_vars=[\"Carbon storage\"],\n",
    "             hue=\"LULC\", height=5, aspect=.8, kind=\"reg\");\n"
   ]
  },
  {
   "cell_type": "code",
   "execution_count": 381,
   "metadata": {},
   "outputs": [],
   "source": [
    "df = pd.read_excel ('Carbon_results.xlsx')"
   ]
  },
  {
   "cell_type": "code",
   "execution_count": 382,
   "metadata": {},
   "outputs": [],
   "source": [
    "#df = df[df['LULC']=='HAG']"
   ]
  },
  {
   "cell_type": "code",
   "execution_count": 383,
   "metadata": {},
   "outputs": [],
   "source": [
    "#df = df[['Carbon storage','Area','Elevation','Slope','Radiation','Drought','Severity','Frequency', 'PRIORITY']]"
   ]
  },
  {
   "cell_type": "code",
   "execution_count": 384,
   "metadata": {},
   "outputs": [
    {
     "data": {
      "text/html": [
       "<div>\n",
       "<style scoped>\n",
       "    .dataframe tbody tr th:only-of-type {\n",
       "        vertical-align: middle;\n",
       "    }\n",
       "\n",
       "    .dataframe tbody tr th {\n",
       "        vertical-align: top;\n",
       "    }\n",
       "\n",
       "    .dataframe thead th {\n",
       "        text-align: right;\n",
       "    }\n",
       "</style>\n",
       "<table border=\"1\" class=\"dataframe\">\n",
       "  <thead>\n",
       "    <tr style=\"text-align: right;\">\n",
       "      <th></th>\n",
       "      <th>id1</th>\n",
       "      <th>new_lulc</th>\n",
       "      <th>LULC</th>\n",
       "      <th>secundária</th>\n",
       "      <th>LULC_MB</th>\n",
       "      <th>_count</th>\n",
       "      <th>NÃO_CON</th>\n",
       "      <th>_sum</th>\n",
       "      <th>Carbon storage</th>\n",
       "      <th>IBGE</th>\n",
       "      <th>...</th>\n",
       "      <th>Slope</th>\n",
       "      <th>Radiation</th>\n",
       "      <th>K_FACTOR</th>\n",
       "      <th>R_FACTOR</th>\n",
       "      <th>PRIORITY</th>\n",
       "      <th>Severity</th>\n",
       "      <th>RIVERS</th>\n",
       "      <th>ROADS</th>\n",
       "      <th>Row Labels</th>\n",
       "      <th>Sum of loss/há</th>\n",
       "    </tr>\n",
       "  </thead>\n",
       "  <tbody>\n",
       "    <tr>\n",
       "      <th>0</th>\n",
       "      <td>1</td>\n",
       "      <td>1151</td>\n",
       "      <td>Pasture</td>\n",
       "      <td>n</td>\n",
       "      <td>115</td>\n",
       "      <td>147</td>\n",
       "      <td>-31.458876</td>\n",
       "      <td>-22.800581</td>\n",
       "      <td>-22.800581</td>\n",
       "      <td>P</td>\n",
       "      <td>...</td>\n",
       "      <td>18.394343</td>\n",
       "      <td>4070.259484</td>\n",
       "      <td>0.0112</td>\n",
       "      <td>5830.830013</td>\n",
       "      <td>1.0</td>\n",
       "      <td>0.150</td>\n",
       "      <td>250.000000</td>\n",
       "      <td>542.599008</td>\n",
       "      <td>Eucalyptus</td>\n",
       "      <td>-149.909214</td>\n",
       "    </tr>\n",
       "    <tr>\n",
       "      <th>1</th>\n",
       "      <td>2</td>\n",
       "      <td>1151</td>\n",
       "      <td>Pasture</td>\n",
       "      <td>n</td>\n",
       "      <td>115</td>\n",
       "      <td>172</td>\n",
       "      <td>-36.809025</td>\n",
       "      <td>-26.678231</td>\n",
       "      <td>-26.678231</td>\n",
       "      <td>P</td>\n",
       "      <td>...</td>\n",
       "      <td>21.511700</td>\n",
       "      <td>5039.473579</td>\n",
       "      <td>0.0112</td>\n",
       "      <td>5857.957520</td>\n",
       "      <td>1.0</td>\n",
       "      <td>0.127</td>\n",
       "      <td>142.521927</td>\n",
       "      <td>0.000000</td>\n",
       "      <td>10</td>\n",
       "      <td>-149.909214</td>\n",
       "    </tr>\n",
       "    <tr>\n",
       "      <th>2</th>\n",
       "      <td>3</td>\n",
       "      <td>1151</td>\n",
       "      <td>Pasture</td>\n",
       "      <td>n</td>\n",
       "      <td>115</td>\n",
       "      <td>1083</td>\n",
       "      <td>-231.768457</td>\n",
       "      <td>-167.979791</td>\n",
       "      <td>-167.979791</td>\n",
       "      <td>P</td>\n",
       "      <td>...</td>\n",
       "      <td>14.534583</td>\n",
       "      <td>5108.330569</td>\n",
       "      <td>0.0112</td>\n",
       "      <td>5828.427411</td>\n",
       "      <td>1.0</td>\n",
       "      <td>0.176</td>\n",
       "      <td>25.000000</td>\n",
       "      <td>0.000000</td>\n",
       "      <td>HAG</td>\n",
       "      <td>-96.798002</td>\n",
       "    </tr>\n",
       "    <tr>\n",
       "      <th>3</th>\n",
       "      <td>4</td>\n",
       "      <td>1151</td>\n",
       "      <td>Pasture</td>\n",
       "      <td>n</td>\n",
       "      <td>115</td>\n",
       "      <td>150</td>\n",
       "      <td>-32.100894</td>\n",
       "      <td>-23.265899</td>\n",
       "      <td>-23.265899</td>\n",
       "      <td>P</td>\n",
       "      <td>...</td>\n",
       "      <td>19.994779</td>\n",
       "      <td>3980.220559</td>\n",
       "      <td>0.0112</td>\n",
       "      <td>5857.957520</td>\n",
       "      <td>1.0</td>\n",
       "      <td>0.115</td>\n",
       "      <td>35.355339</td>\n",
       "      <td>288.532898</td>\n",
       "      <td>1</td>\n",
       "      <td>-11.482565</td>\n",
       "    </tr>\n",
       "    <tr>\n",
       "      <th>4</th>\n",
       "      <td>5</td>\n",
       "      <td>1151</td>\n",
       "      <td>Pasture</td>\n",
       "      <td>n</td>\n",
       "      <td>115</td>\n",
       "      <td>90</td>\n",
       "      <td>-19.260537</td>\n",
       "      <td>-13.959539</td>\n",
       "      <td>-13.959539</td>\n",
       "      <td>P</td>\n",
       "      <td>...</td>\n",
       "      <td>23.234326</td>\n",
       "      <td>2702.173952</td>\n",
       "      <td>0.0112</td>\n",
       "      <td>5962.503418</td>\n",
       "      <td>1.0</td>\n",
       "      <td>0.115</td>\n",
       "      <td>0.000000</td>\n",
       "      <td>24.994002</td>\n",
       "      <td>2</td>\n",
       "      <td>-5.554626</td>\n",
       "    </tr>\n",
       "  </tbody>\n",
       "</table>\n",
       "<p>5 rows × 29 columns</p>\n",
       "</div>"
      ],
      "text/plain": [
       "   id1  new_lulc     LULC secundária  LULC_MB  _count     NÃO_CON        _sum  \\\n",
       "0    1      1151  Pasture          n      115     147  -31.458876  -22.800581   \n",
       "1    2      1151  Pasture          n      115     172  -36.809025  -26.678231   \n",
       "2    3      1151  Pasture          n      115    1083 -231.768457 -167.979791   \n",
       "3    4      1151  Pasture          n      115     150  -32.100894  -23.265899   \n",
       "4    5      1151  Pasture          n      115      90  -19.260537  -13.959539   \n",
       "\n",
       "   Carbon storage IBGE  ...      Slope    Radiation  K_FACTOR     R_FACTOR  \\\n",
       "0      -22.800581    P  ...  18.394343  4070.259484    0.0112  5830.830013   \n",
       "1      -26.678231    P  ...  21.511700  5039.473579    0.0112  5857.957520   \n",
       "2     -167.979791    P  ...  14.534583  5108.330569    0.0112  5828.427411   \n",
       "3      -23.265899    P  ...  19.994779  3980.220559    0.0112  5857.957520   \n",
       "4      -13.959539    P  ...  23.234326  2702.173952    0.0112  5962.503418   \n",
       "\n",
       "   PRIORITY  Severity      RIVERS       ROADS  Row Labels  Sum of loss/há  \n",
       "0       1.0     0.150  250.000000  542.599008  Eucalyptus     -149.909214  \n",
       "1       1.0     0.127  142.521927    0.000000          10     -149.909214  \n",
       "2       1.0     0.176   25.000000    0.000000         HAG      -96.798002  \n",
       "3       1.0     0.115   35.355339  288.532898           1      -11.482565  \n",
       "4       1.0     0.115    0.000000   24.994002           2       -5.554626  \n",
       "\n",
       "[5 rows x 29 columns]"
      ]
     },
     "execution_count": 384,
     "metadata": {},
     "output_type": "execute_result"
    }
   ],
   "source": [
    "df.head()"
   ]
  },
  {
   "cell_type": "markdown",
   "metadata": {},
   "source": [
    "Pearson average_pre x biomass nbr pre (0.9390486730707825, 4.7697734465263264e-70)\n",
    "Pearson average_pre x biomass NDVI pre (0.9325755700305685, 6.259291026447404e-67)\n",
    "Pearson average_post x biomass nbr post (0.9079079093024507, 2.2397154466212196e-57)\n",
    "Pearson average_post x biomass NDVI post (0.8793281245131204, 3.2342882819262132e-49)"
   ]
  },
  {
   "cell_type": "code",
   "execution_count": 386,
   "metadata": {},
   "outputs": [
    {
     "name": "stdout",
     "output_type": "stream",
     "text": [
      "area SpearmanrResult(correlation=-0.48198874451652746, pvalue=7.073002559001946e-33)\n",
      "radiation SpearmanrResult(correlation=0.40653696056992483, pvalue=5.490195638593473e-23)\n",
      "Elevation SpearmanrResult(correlation=-0.12709654202471113, pvalue=0.0030355115956784457)\n",
      "Slope SpearmanrResult(correlation=-0.09169183365296456, pvalue=0.032823382407195574)\n",
      "Drought SpearmanrResult(correlation=-0.013561036307178408, pvalue=0.7527626923971755)\n",
      "Frequency SpearmanrResult(correlation=0.0031380886181150936, pvalue=0.9418944341866622)\n",
      "Severity SpearmanrResult(correlation=-0.017169113678142688, pvalue=0.6900266656417471)\n",
      "RIVERS SpearmanrResult(correlation=0.23601020188118266, pvalue=2.6887285922198703e-08)\n",
      "Roads SpearmanrResult(correlation=-0.07182577450301858, pvalue=0.09482726604125419)\n",
      "Priority SpearmanrResult(correlation=-0.2252929600610743, pvalue=1.1503463980627831e-07)\n"
     ]
    },
    {
     "data": {
      "text/plain": [
       "(None, None, None, None, None)"
      ]
     },
     "execution_count": 386,
     "metadata": {},
     "output_type": "execute_result"
    }
   ],
   "source": [
    "a = stats.spearmanr( df['Carbon storage'],df['Area'])\n",
    "b = stats.spearmanr( df['Carbon storage'],df['Radiation'])\n",
    "c = stats.spearmanr( df['Carbon storage'],df['Elevation'])\n",
    "d = stats.spearmanr( df['Carbon storage'],df['Slope'])\n",
    "e = stats.spearmanr( df['Carbon storage'],df['Drought'])\n",
    "f = stats.spearmanr( df['Carbon storage'],df['Frequency'])\n",
    "g = stats.spearmanr( df['Carbon storage'],df['Severity'])\n",
    "h = stats.spearmanr( df['Carbon storage'],df['RIVERS'])\n",
    "i = stats.spearmanr( df['Carbon storage'],df['ROADS'])\n",
    "j = stats.spearmanr( df['Carbon storage'],df['PRIORITY'])\n",
    "\n",
    "print ('area',a), print ('radiation', b), print  ('Elevation', c), print  ('Slope', d), print  ('Drought', e), \n",
    "print  ('Frequency', f), print  ('Severity', g), print (\"RIVERS\", h), print ('Roads', i),print ('Priority', j)"
   ]
  },
  {
   "cell_type": "code",
   "execution_count": 387,
   "metadata": {},
   "outputs": [
    {
     "name": "stdout",
     "output_type": "stream",
     "text": [
      "area SpearmanrResult(correlation=-0.9525902984230509, pvalue=3.1795622325369817e-74)\n",
      "radiation SpearmanrResult(correlation=-0.07589212274766552, pvalue=0.3693662361733411)\n",
      "Elevation SpearmanrResult(correlation=-0.12134357243078348, pvalue=0.15028760461970603)\n",
      "Slope SpearmanrResult(correlation=0.08746192558322706, pvalue=0.30066792688594013)\n",
      "Drought SpearmanrResult(correlation=-0.1264775917245109, pvalue=0.1336498621145956)\n",
      "Frequency SpearmanrResult(correlation=-0.28599233690895887, pvalue=0.0005601224540756851)\n",
      "Severity SpearmanrResult(correlation=-0.34875910967533025, pvalue=2.1041020071850287e-05)\n",
      "RIVERS SpearmanrResult(correlation=0.3846175796385646, pvalue=2.2918524090395366e-06)\n",
      "Roads SpearmanrResult(correlation=0.23425434127172803, pvalue=0.0050169725346497366)\n",
      "Priority SpearmanrResult(correlation=-0.08320682870830305, pvalue=0.32488524775712435)\n"
     ]
    },
    {
     "data": {
      "text/plain": [
       "(None, None, None, None, None)"
      ]
     },
     "execution_count": 387,
     "metadata": {},
     "output_type": "execute_result"
    }
   ],
   "source": [
    "df = pd.read_excel ('Carbon_results.xlsx') #Read excel file\n",
    "df = df[df['LULC']=='ODF Old-growth']\n",
    "\n",
    "a = stats.spearmanr( df['Carbon storage'],df['Area'])\n",
    "b = stats.spearmanr( df['Carbon storage'],df['Radiation'])\n",
    "c = stats.spearmanr( df['Carbon storage'],df['Elevation'])\n",
    "d = stats.spearmanr( df['Carbon storage'],df['Slope'])\n",
    "e = stats.spearmanr( df['Carbon storage'],df['Drought'])\n",
    "f = stats.spearmanr( df['Carbon storage'],df['Frequency'])\n",
    "g = stats.spearmanr( df['Carbon storage'],df['Severity'])\n",
    "h = stats.spearmanr( df['Carbon storage'],df['RIVERS'])\n",
    "i = stats.spearmanr( df['Carbon storage'],df['ROADS'])\n",
    "j = stats.spearmanr( df['Carbon storage'],df['PRIORITY'])\n",
    "\n",
    "print ('area',a), print ('radiation', b), print  ('Elevation', c), print  ('Slope', d), print  ('Drought', e), \n",
    "print  ('Frequency', f), print  ('Severity', g), print (\"RIVERS\", h), print ('Roads', i),print ('Priority', j)"
   ]
  },
  {
   "cell_type": "code",
   "execution_count": 388,
   "metadata": {},
   "outputs": [
    {
     "name": "stdout",
     "output_type": "stream",
     "text": [
      "area SpearmanrResult(correlation=-0.850216573173867, pvalue=2.1698693506973758e-16)\n",
      "radiation SpearmanrResult(correlation=0.09487905627546867, pvalue=0.49080004580586023)\n",
      "Elevation SpearmanrResult(correlation=-0.08715885930096284, pvalue=0.5268991818219477)\n",
      "Slope SpearmanrResult(correlation=-0.09747650572483509, pvalue=0.47895176144521556)\n",
      "Drought SpearmanrResult(correlation=-0.08723174642304797, pvalue=0.5265523180714109)\n",
      "Frequency SpearmanrResult(correlation=-0.13477278881728844, pvalue=0.32657820190812514)\n",
      "Severity SpearmanrResult(correlation=-0.4094451261774264, pvalue=0.0019086144621802506)\n",
      "RIVERS SpearmanrResult(correlation=0.4023573087781161, pvalue=0.002324780222449655)\n",
      "Roads SpearmanrResult(correlation=0.25496743752791107, pvalue=0.060294005125839996)\n",
      "Priority SpearmanrResult(correlation=-0.15430613328685672, pvalue=0.26065982024492296)\n"
     ]
    },
    {
     "data": {
      "text/plain": [
       "(None, None, None, None, None)"
      ]
     },
     "execution_count": 388,
     "metadata": {},
     "output_type": "execute_result"
    }
   ],
   "source": [
    "df = pd.read_excel ('Carbon_results.xlsx') #Read excel file\n",
    "df = df[df['LULC']=='ODF Secondary']\n",
    "\n",
    "a = stats.spearmanr( df['Carbon storage'],df['Area'])\n",
    "b = stats.spearmanr( df['Carbon storage'],df['Radiation'])\n",
    "c = stats.spearmanr( df['Carbon storage'],df['Elevation'])\n",
    "d = stats.spearmanr( df['Carbon storage'],df['Slope'])\n",
    "e = stats.spearmanr( df['Carbon storage'],df['Drought'])\n",
    "f = stats.spearmanr( df['Carbon storage'],df['Frequency'])\n",
    "g = stats.spearmanr( df['Carbon storage'],df['Severity'])\n",
    "h = stats.spearmanr( df['Carbon storage'],df['RIVERS'])\n",
    "i = stats.spearmanr( df['Carbon storage'],df['ROADS'])\n",
    "j = stats.spearmanr( df['Carbon storage'],df['PRIORITY'])\n",
    "\n",
    "print ('area',a), print ('radiation', b), print  ('Elevation', c), print  ('Slope', d), print  ('Drought', e), \n",
    "print  ('Frequency', f), print  ('Severity', g), print (\"RIVERS\", h), print ('Roads', i),print ('Priority', j)"
   ]
  },
  {
   "cell_type": "code",
   "execution_count": 389,
   "metadata": {},
   "outputs": [
    {
     "name": "stdout",
     "output_type": "stream",
     "text": [
      "area SpearmanrResult(correlation=-0.9999999999999999, pvalue=6.646897422032013e-64)\n",
      "radiation SpearmanrResult(correlation=0.33333333333333326, pvalue=0.34659350708733405)\n",
      "Elevation SpearmanrResult(correlation=-0.16363636363636364, pvalue=0.6514773427962428)\n",
      "Slope SpearmanrResult(correlation=-0.04242424242424241, pvalue=0.907363817812816)\n",
      "Drought SpearmanrResult(correlation=-0.47943101330719434, pvalue=0.16087951436698347)\n",
      "Frequency SpearmanrResult(correlation=-0.6788335930269976, pvalue=0.03089875499425584)\n",
      "Severity SpearmanrResult(correlation=-0.6242424242424242, pvalue=0.053717767217167395)\n",
      "RIVERS SpearmanrResult(correlation=0.3006361283785259, pvalue=0.398643511478881)\n",
      "Roads SpearmanrResult(correlation=0.5627748595326502, pvalue=0.09032393676886162)\n",
      "Priority SpearmanrResult(correlation=nan, pvalue=nan)\n"
     ]
    },
    {
     "name": "stderr",
     "output_type": "stream",
     "text": [
      "C:\\Users\\cheil\\anaconda3\\lib\\site-packages\\scipy\\stats\\stats.py:4484: SpearmanRConstantInputWarning: An input array is constant; the correlation coefficient is not defined.\n",
      "  warnings.warn(SpearmanRConstantInputWarning())\n"
     ]
    },
    {
     "data": {
      "text/plain": [
       "(None, None, None, None, None)"
      ]
     },
     "execution_count": 389,
     "metadata": {},
     "output_type": "execute_result"
    }
   ],
   "source": [
    "df = pd.read_excel ('Carbon_results.xlsx') #Read excel file\n",
    "df = df[df['LULC']=='MOF Old-growth']\n",
    "\n",
    "a = stats.spearmanr( df['Carbon storage'],df['Area'])\n",
    "b = stats.spearmanr( df['Carbon storage'],df['Radiation'])\n",
    "c = stats.spearmanr( df['Carbon storage'],df['Elevation'])\n",
    "d = stats.spearmanr( df['Carbon storage'],df['Slope'])\n",
    "e = stats.spearmanr( df['Carbon storage'],df['Drought'])\n",
    "f = stats.spearmanr( df['Carbon storage'],df['Frequency'])\n",
    "g = stats.spearmanr( df['Carbon storage'],df['Severity'])\n",
    "h = stats.spearmanr( df['Carbon storage'],df['RIVERS'])\n",
    "i = stats.spearmanr( df['Carbon storage'],df['ROADS'])\n",
    "j = stats.spearmanr( df['Carbon storage'],df['PRIORITY'])\n",
    "\n",
    "print ('area',a), print ('radiation', b), print  ('Elevation', c), print  ('Slope', d), print  ('Drought', e), \n",
    "print  ('Frequency', f), print  ('Severity', g), print (\"RIVERS\", h), print ('Roads', i),print ('Priority', j)\n"
   ]
  },
  {
   "cell_type": "code",
   "execution_count": 390,
   "metadata": {},
   "outputs": [
    {
     "name": "stdout",
     "output_type": "stream",
     "text": [
      "area SpearmanrResult(correlation=-1.0, pvalue=0.0)\n",
      "radiation SpearmanrResult(correlation=-0.5, pvalue=0.6666666666666667)\n",
      "Elevation SpearmanrResult(correlation=0.5, pvalue=0.6666666666666667)\n",
      "Slope SpearmanrResult(correlation=0.5, pvalue=0.6666666666666667)\n",
      "Drought SpearmanrResult(correlation=0.8660254037844387, pvalue=0.3333333333333332)\n",
      "Frequency SpearmanrResult(correlation=0.0, pvalue=1.0)\n",
      "Severity SpearmanrResult(correlation=-0.5, pvalue=0.6666666666666667)\n",
      "RIVERS SpearmanrResult(correlation=-1.0, pvalue=0.0)\n",
      "Roads SpearmanrResult(correlation=0.8660254037844387, pvalue=0.3333333333333332)\n",
      "Priority SpearmanrResult(correlation=nan, pvalue=nan)\n"
     ]
    },
    {
     "data": {
      "text/plain": [
       "(None, None, None, None, None)"
      ]
     },
     "execution_count": 390,
     "metadata": {},
     "output_type": "execute_result"
    }
   ],
   "source": [
    "df = pd.read_excel ('Carbon_results.xlsx') #Read excel file\n",
    "df = df[df['LULC']=='MOF secondary']\n",
    "\n",
    "a = stats.spearmanr( df['Carbon storage'],df['Area'])\n",
    "b = stats.spearmanr( df['Carbon storage'],df['Radiation'])\n",
    "c = stats.spearmanr( df['Carbon storage'],df['Elevation'])\n",
    "d = stats.spearmanr( df['Carbon storage'],df['Slope'])\n",
    "e = stats.spearmanr( df['Carbon storage'],df['Drought'])\n",
    "f = stats.spearmanr( df['Carbon storage'],df['Frequency'])\n",
    "g = stats.spearmanr( df['Carbon storage'],df['Severity'])\n",
    "h = stats.spearmanr( df['Carbon storage'],df['RIVERS'])\n",
    "i = stats.spearmanr( df['Carbon storage'],df['ROADS'])\n",
    "j = stats.spearmanr( df['Carbon storage'],df['PRIORITY'])\n",
    "\n",
    "print ('area',a), print ('radiation', b), print  ('Elevation', c), print  ('Slope', d), print  ('Drought', e), \n",
    "print  ('Frequency', f), print  ('Severity', g), print (\"RIVERS\", h), print ('Roads', i),print ('Priority', j)"
   ]
  },
  {
   "cell_type": "code",
   "execution_count": 391,
   "metadata": {},
   "outputs": [
    {
     "name": "stdout",
     "output_type": "stream",
     "text": [
      "area SpearmanrResult(correlation=-0.8999999999999998, pvalue=0.03738607346849874)\n",
      "radiation SpearmanrResult(correlation=-0.3, pvalue=0.6238376647810728)\n",
      "Elevation SpearmanrResult(correlation=-0.3, pvalue=0.6238376647810728)\n",
      "Slope SpearmanrResult(correlation=0.09999999999999999, pvalue=0.8728885715695383)\n",
      "Drought SpearmanrResult(correlation=0.5773502691896257, pvalue=0.308068009250357)\n",
      "Frequency SpearmanrResult(correlation=nan, pvalue=nan)\n",
      "Severity SpearmanrResult(correlation=-0.49999999999999994, pvalue=0.39100221895577053)\n",
      "RIVERS SpearmanrResult(correlation=0.49999999999999994, pvalue=0.39100221895577053)\n",
      "Roads SpearmanrResult(correlation=-0.49999999999999994, pvalue=0.39100221895577053)\n",
      "Priority SpearmanrResult(correlation=-0.44721359549995787, pvalue=0.45018485575210093)\n"
     ]
    },
    {
     "data": {
      "text/plain": [
       "(None, None, None, None, None)"
      ]
     },
     "execution_count": 391,
     "metadata": {},
     "output_type": "execute_result"
    }
   ],
   "source": [
    "df = pd.read_excel ('Carbon_results.xlsx') #Read excel file\n",
    "df = df[df['LULC']=='SSF Old-growth']\n",
    "\n",
    "a = stats.spearmanr( df['Carbon storage'],df['Area'])\n",
    "b = stats.spearmanr( df['Carbon storage'],df['Radiation'])\n",
    "c = stats.spearmanr( df['Carbon storage'],df['Elevation'])\n",
    "d = stats.spearmanr( df['Carbon storage'],df['Slope'])\n",
    "e = stats.spearmanr( df['Carbon storage'],df['Drought'])\n",
    "f = stats.spearmanr( df['Carbon storage'],df['Frequency'])\n",
    "g = stats.spearmanr( df['Carbon storage'],df['Severity'])\n",
    "h = stats.spearmanr( df['Carbon storage'],df['RIVERS'])\n",
    "i = stats.spearmanr( df['Carbon storage'],df['ROADS'])\n",
    "j = stats.spearmanr( df['Carbon storage'],df['PRIORITY'])\n",
    "\n",
    "print ('area',a), print ('radiation', b), print  ('Elevation', c), print  ('Slope', d), print  ('Drought', e), \n",
    "print  ('Frequency', f), print  ('Severity', g), print (\"RIVERS\", h), print ('Roads', i),print ('Priority', j)"
   ]
  },
  {
   "cell_type": "code",
   "execution_count": 392,
   "metadata": {},
   "outputs": [
    {
     "name": "stdout",
     "output_type": "stream",
     "text": [
      "area SpearmanrResult(correlation=-0.8383383833392813, pvalue=0.009323115735056047)\n",
      "radiation SpearmanrResult(correlation=-0.5000000000000001, pvalue=0.20703124999999997)\n",
      "Elevation SpearmanrResult(correlation=0.023809523809523815, pvalue=0.9553740118158807)\n",
      "Slope SpearmanrResult(correlation=0.04761904761904763, pvalue=0.9108491685195836)\n",
      "Drought SpearmanrResult(correlation=0.2817180849095055, pvalue=0.49906137962992314)\n",
      "Frequency SpearmanrResult(correlation=nan, pvalue=nan)\n",
      "Severity SpearmanrResult(correlation=0.09523809523809526, pvalue=0.8225054302036114)\n",
      "RIVERS SpearmanrResult(correlation=0.36596252735569995, pvalue=0.37262472702449506)\n",
      "Roads SpearmanrResult(correlation=0.023809523809523815, pvalue=0.9553740118158807)\n",
      "Priority SpearmanrResult(correlation=0.6257415691925263, pvalue=0.09702245582500368)\n"
     ]
    },
    {
     "data": {
      "text/plain": [
       "(None, None, None, None, None)"
      ]
     },
     "execution_count": 392,
     "metadata": {},
     "output_type": "execute_result"
    }
   ],
   "source": [
    "df = pd.read_excel ('Carbon_results.xlsx') #Read excel file\n",
    "df = df[df['LULC']=='SSF secondary']\n",
    "\n",
    "a = stats.spearmanr( df['Carbon storage'],df['Area'])\n",
    "b = stats.spearmanr( df['Carbon storage'],df['Radiation'])\n",
    "c = stats.spearmanr( df['Carbon storage'],df['Elevation'])\n",
    "d = stats.spearmanr( df['Carbon storage'],df['Slope'])\n",
    "e = stats.spearmanr( df['Carbon storage'],df['Drought'])\n",
    "f = stats.spearmanr( df['Carbon storage'],df['Frequency'])\n",
    "g = stats.spearmanr( df['Carbon storage'],df['Severity'])\n",
    "h = stats.spearmanr( df['Carbon storage'],df['RIVERS'])\n",
    "i = stats.spearmanr( df['Carbon storage'],df['ROADS'])\n",
    "j = stats.spearmanr( df['Carbon storage'],df['PRIORITY'])\n",
    "\n",
    "print ('area',a), print ('radiation', b), print  ('Elevation', c), print  ('Slope', d), print  ('Drought', e), \n",
    "print  ('Frequency', f), print  ('Severity', g), print (\"RIVERS\", h), print ('Roads', i),print ('Priority', j)"
   ]
  },
  {
   "cell_type": "code",
   "execution_count": 393,
   "metadata": {},
   "outputs": [
    {
     "name": "stdout",
     "output_type": "stream",
     "text": [
      "area SpearmanrResult(correlation=-0.8881672008870861, pvalue=7.704826550925016e-08)\n",
      "radiation SpearmanrResult(correlation=0.25787594734542896, pvalue=0.2590688207713687)\n",
      "Elevation SpearmanrResult(correlation=-0.1188697691793791, pvalue=0.6078114210200374)\n",
      "Slope SpearmanrResult(correlation=-0.18902241984261925, pvalue=0.41187102856059365)\n",
      "Drought SpearmanrResult(correlation=-0.12233554836823933, pvalue=0.5973083613398318)\n",
      "Frequency SpearmanrResult(correlation=-0.19536475671775647, pvalue=0.3960618756270108)\n",
      "Severity SpearmanrResult(correlation=-0.3086420404636634, pvalue=0.17342534238014196)\n",
      "RIVERS SpearmanrResult(correlation=0.029938248840853488, pvalue=0.8974986909837906)\n",
      "Roads SpearmanrResult(correlation=-0.005198181734124857, pvalue=0.9821588312695199)\n",
      "Priority SpearmanrResult(correlation=nan, pvalue=nan)\n"
     ]
    },
    {
     "data": {
      "text/plain": [
       "(None, None, None, None, None)"
      ]
     },
     "execution_count": 393,
     "metadata": {},
     "output_type": "execute_result"
    }
   ],
   "source": [
    "df = pd.read_excel ('Carbon_results.xlsx') #Read excel file\n",
    "df = df[df['LULC']=='HAG']\n",
    "\n",
    "a = stats.spearmanr( df['Carbon storage'],df['Area'])\n",
    "b = stats.spearmanr( df['Carbon storage'],df['Radiation'])\n",
    "c = stats.spearmanr( df['Carbon storage'],df['Elevation'])\n",
    "d = stats.spearmanr( df['Carbon storage'],df['Slope'])\n",
    "e = stats.spearmanr( df['Carbon storage'],df['Drought'])\n",
    "f = stats.spearmanr( df['Carbon storage'],df['Frequency'])\n",
    "g = stats.spearmanr( df['Carbon storage'],df['Severity'])\n",
    "h = stats.spearmanr( df['Carbon storage'],df['RIVERS'])\n",
    "i = stats.spearmanr( df['Carbon storage'],df['ROADS'])\n",
    "j = stats.spearmanr( df['Carbon storage'],df['PRIORITY'])\n",
    "\n",
    "print ('area',a), print ('radiation', b), print  ('Elevation', c), print  ('Slope', d), print  ('Drought', e), \n",
    "print  ('Frequency', f), print  ('Severity', g), print (\"RIVERS\", h), print ('Roads', i),print ('Priority', j)"
   ]
  },
  {
   "cell_type": "code",
   "execution_count": 394,
   "metadata": {},
   "outputs": [
    {
     "name": "stdout",
     "output_type": "stream",
     "text": [
      "area SpearmanrResult(correlation=-0.7823904567249492, pvalue=5.271290254430477e-62)\n",
      "radiation SpearmanrResult(correlation=-0.07560440100120415, pvalue=0.19612390303341368)\n",
      "Elevation SpearmanrResult(correlation=0.21895639727822122, pvalue=0.00015411208461478963)\n",
      "Slope SpearmanrResult(correlation=0.0388210163650408, pvalue=0.507294621915803)\n",
      "Drought SpearmanrResult(correlation=-0.025421844582260277, pvalue=0.6642106871932654)\n",
      "Frequency SpearmanrResult(correlation=0.10845725775146127, pvalue=0.06328065918696556)\n",
      "Severity SpearmanrResult(correlation=-0.043744655682763756, pvalue=0.4549265107102969)\n",
      "RIVERS SpearmanrResult(correlation=0.22642103536738167, pvalue=8.974726961247557e-05)\n",
      "Roads SpearmanrResult(correlation=0.11125352392506023, pvalue=0.05672898622334386)\n",
      "Priority SpearmanrResult(correlation=0.23167121898720575, pvalue=6.0692599822933606e-05)\n"
     ]
    },
    {
     "data": {
      "text/plain": [
       "(None, None, None, None, None)"
      ]
     },
     "execution_count": 394,
     "metadata": {},
     "output_type": "execute_result"
    }
   ],
   "source": [
    "df = pd.read_excel ('Carbon_results.xlsx') #Read excel file\n",
    "df = df[df['LULC']=='Pasture']\n",
    "\n",
    "a = stats.spearmanr( df['Carbon storage'],df['Area'])\n",
    "b = stats.spearmanr( df['Carbon storage'],df['Radiation'])\n",
    "c = stats.spearmanr( df['Carbon storage'],df['Elevation'])\n",
    "d = stats.spearmanr( df['Carbon storage'],df['Slope'])\n",
    "e = stats.spearmanr( df['Carbon storage'],df['Drought'])\n",
    "f = stats.spearmanr( df['Carbon storage'],df['Frequency'])\n",
    "g = stats.spearmanr( df['Carbon storage'],df['Severity'])\n",
    "h = stats.spearmanr( df['Carbon storage'],df['RIVERS'])\n",
    "i = stats.spearmanr( df['Carbon storage'],df['ROADS'])\n",
    "j = stats.spearmanr( df['Carbon storage'],df['PRIORITY'])\n",
    "\n",
    "print ('area',a), print ('radiation', b), print  ('Elevation', c), print  ('Slope', d), print  ('Drought', e), \n",
    "print  ('Frequency', f), print  ('Severity', g), print (\"RIVERS\", h), print ('Roads', i),print ('Priority', j)"
   ]
  },
  {
   "cell_type": "code",
   "execution_count": 395,
   "metadata": {},
   "outputs": [
    {
     "name": "stdout",
     "output_type": "stream",
     "text": [
      "area SpearmanrResult(correlation=-1.0, pvalue=0.0)\n",
      "radiation SpearmanrResult(correlation=-0.7999999999999999, pvalue=0.20000000000000007)\n",
      "Elevation SpearmanrResult(correlation=1.0, pvalue=0.0)\n",
      "Slope SpearmanrResult(correlation=0.39999999999999997, pvalue=0.6)\n",
      "Drought SpearmanrResult(correlation=-0.9486832980505139, pvalue=0.051316701949486114)\n",
      "Frequency SpearmanrResult(correlation=0.7745966692414834, pvalue=0.22540333075851657)\n",
      "Severity SpearmanrResult(correlation=-0.39999999999999997, pvalue=0.6)\n",
      "RIVERS SpearmanrResult(correlation=0.39999999999999997, pvalue=0.6)\n",
      "Roads SpearmanrResult(correlation=0.39999999999999997, pvalue=0.6)\n",
      "Priority SpearmanrResult(correlation=0.7745966692414834, pvalue=0.22540333075851657)\n"
     ]
    },
    {
     "data": {
      "text/plain": [
       "(None, None, None, None, None)"
      ]
     },
     "execution_count": 395,
     "metadata": {},
     "output_type": "execute_result"
    }
   ],
   "source": [
    "df = pd.read_excel ('Carbon_results.xlsx') #Read excel file\n",
    "df = df[df['LULC']=='Eucalyptus']\n",
    "\n",
    "a = stats.spearmanr( df['Carbon storage'],df['Area'])\n",
    "b = stats.spearmanr( df['Carbon storage'],df['Radiation'])\n",
    "c = stats.spearmanr( df['Carbon storage'],df['Elevation'])\n",
    "d = stats.spearmanr( df['Carbon storage'],df['Slope'])\n",
    "e = stats.spearmanr( df['Carbon storage'],df['Drought'])\n",
    "f = stats.spearmanr( df['Carbon storage'],df['Frequency'])\n",
    "g = stats.spearmanr( df['Carbon storage'],df['Severity'])\n",
    "h = stats.spearmanr( df['Carbon storage'],df['RIVERS'])\n",
    "i = stats.spearmanr( df['Carbon storage'],df['ROADS'])\n",
    "j = stats.spearmanr( df['Carbon storage'],df['PRIORITY'])\n",
    "\n",
    "print ('area',a), print ('radiation', b), print  ('Elevation', c), print  ('Slope', d), print  ('Drought', e), \n",
    "print  ('Frequency', f), print  ('Severity', g), print (\"RIVERS\", h), print ('Roads', i),print ('Priority', j)"
   ]
  },
  {
   "cell_type": "code",
   "execution_count": 321,
   "metadata": {},
   "outputs": [],
   "source": [
    "spearmancorr= df.corr(method='pearson', min_periods=1)"
   ]
  },
  {
   "cell_type": "code",
   "execution_count": null,
   "metadata": {},
   "outputs": [],
   "source": []
  },
  {
   "cell_type": "code",
   "execution_count": 322,
   "metadata": {},
   "outputs": [],
   "source": [
    "def corr_sig(df):\n",
    "    p_matrix = np.zeros(shape=(df.shape[1],df.shape[1]))\n",
    "    for col in df.columns:\n",
    "        for col2 in df.drop(col,axis=1).columns:\n",
    "            _ , p = stats.spearmanr(df[col],df[col2])\n",
    "            p_matrix[df.columns.to_list().index(col),df.columns.to_list().index(col2)] = p\n",
    "    return p_matrix\n",
    "\n",
    "p_values = corr_sig(df)\n",
    "mask = np.invert(np.tril(p_values<0.05))\n",
    "# note seaborn will hide correlation were the boolean value is True in the mask"
   ]
  },
  {
   "cell_type": "code",
   "execution_count": 323,
   "metadata": {},
   "outputs": [],
   "source": [
    "def plot_cor_matrix(spearmancorr, mask=None):\n",
    "    f, ax = plt.subplots(figsize=(20, 12))\n",
    "    sns.set(font_scale=1.4)\n",
    "    sns.heatmap(spearmancorr, ax=ax,\n",
    "                mask=mask,\n",
    "                # cosmetics\n",
    "                annot=True, vmin=-1, vmax=1, center=0,annot_kws={\"size\": 16},fmt = '.1f',\n",
    "                cmap='coolwarm', linewidths=1, linecolor='black', cbar_kws={'orientation': 'vertical'})"
   ]
  },
  {
   "cell_type": "code",
   "execution_count": 324,
   "metadata": {},
   "outputs": [
    {
     "data": {
      "image/png": "[encoded data removed]",
      "text/plain": [
       "<Figure size 1440x864 with 2 Axes>"
      ]
     },
     "metadata": {},
     "output_type": "display_data"
    }
   ],
   "source": [
    "# Plotting with significance filter\n",
    "corr = df.corr()                            # get correlation\n",
    "p_values = corr_sig(df)                     # get p-Value\n",
    "mask = np.invert(np.tril(p_values<0.05))    # mask - only get significant corr\n",
    "#plot_cor_matrix(spearmancorr,mask)  \n",
    "fig = plot_cor_matrix(spearmancorr,mask)\n",
    "plt.savefig ('correlation_carbonloss.tif')"
   ]
  },
  {
   "cell_type": "code",
   "execution_count": null,
   "metadata": {},
   "outputs": [],
   "source": []
  }
 ],
 "metadata": {
  "kernelspec": {
   "display_name": "Python 3",
   "language": "python",
   "name": "python3"
  },
  "language_info": {
   "codemirror_mode": {
    "name": "ipython",
    "version": 3
   },
   "file_extension": ".py",
   "mimetype": "text/x-python",
   "name": "python",
   "nbconvert_exporter": "python",
   "pygments_lexer": "ipython3",
   "version": "3.8.5"
  }
 },
 "nbformat": 4,
 "nbformat_minor": 4
}
